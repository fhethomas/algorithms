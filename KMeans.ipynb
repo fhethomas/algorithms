{
 "cells": [
  {
   "cell_type": "markdown",
   "metadata": {},
   "source": [
    "# KMeans\n",
    "Creating an implementation of the K-Means algorithm. The algorithm has several steps. \n",
    "1. Assign k points to cluster around\n",
    "2. Assign each point in the data to one of the clusters\n",
    "3. Move the cluster center point to the mean of that cluster - repeat\n",
    "4. I will build in functionality to allow feature scaling through max-min normalization. This will drive better results and a quicker algorithm."
   ]
  },
  {
   "cell_type": "code",
   "execution_count": 1,
   "metadata": {
    "collapsed": true
   },
   "outputs": [],
   "source": [
    "import numpy as np\n",
    "import matplotlib.pyplot as plt\n",
    "%matplotlib inline"
   ]
  },
  {
   "cell_type": "markdown",
   "metadata": {},
   "source": [
    "# 1. Test Data\n",
    "Sample test data created and displayed below"
   ]
  },
  {
   "cell_type": "code",
   "execution_count": 69,
   "metadata": {
    "collapsed": false
   },
   "outputs": [
    {
     "data": {
      "image/png": "[encoded data removed]",
      "text/plain": [
       "<matplotlib.figure.Figure at 0x2f05e3552b0>"
      ]
     },
     "metadata": {},
     "output_type": "display_data"
    }
   ],
   "source": [
    "# create testing data\n",
    "x1 = np.linspace(0,1,num=30)\n",
    "x2 = np.linspace(2,3,num=30)\n",
    "y1 = np.random.randint(1,15,30)\n",
    "y2 = np.random.randint(10,25,30)\n",
    "X = np.concatenate((x1,x2),axis=0)\n",
    "Y = np.concatenate((y1,y2),axis=0)\n",
    "X=X.reshape(len(X),1)\n",
    "Y=Y.reshape(len(Y),1)\n",
    "X=np.concatenate((X,Y),axis=1)\n",
    "plt.scatter(X[:,0],X[:,1])\n",
    "plt.show()"
   ]
  },
  {
   "cell_type": "markdown",
   "metadata": {},
   "source": [
    "# 2. Model Build\n",
    "Construction of the KMeans algorithm"
   ]
  },
  {
   "cell_type": "code",
   "execution_count": 72,
   "metadata": {
    "collapsed": true
   },
   "outputs": [],
   "source": [
    "class KMeans:\n",
    "    \"\"\"\n",
    "    The KMeans algorithm is an unsupervized tool \n",
    "    to identify clusters.\n",
    "    Parameters\n",
    "    -----------\n",
    "    K : integer\n",
    "        How many cluster points are desired\n",
    "    accuracy : float, default 0.00005\n",
    "        Percentage change in moving mean\n",
    "    normalize : Boolean, Default True\n",
    "        Identifies if the data should be\n",
    "        max-min normalized prior to clustering\n",
    "    \"\"\"\n",
    "    def __init__(self,K,accuracy=0.0005,normalize=True):\n",
    "        self.K=K\n",
    "        self.accuracy = accuracy\n",
    "        self.normalize=normalize\n",
    "    def initial_point(self,X):\n",
    "        # identifies random start points for k clustering points\n",
    "        m,n = X.shape\n",
    "        min_list=[]\n",
    "        max_list=[]\n",
    "        for i in range(n):\n",
    "            min_list.append(np.min(X[:,i]))\n",
    "            max_list.append(np.max(X[:,i]))\n",
    "        min_arr = np.array(min_list)\n",
    "        min_arr = min_arr.reshape(1,n)\n",
    "        max_arr = np.array(max_list)\n",
    "        max_arr = max_arr.reshape(1,n)\n",
    "        rand_start = np.random.rand(self.K,n)\n",
    "        rand_start*=max_arr\n",
    "        rand_start+=min_arr\n",
    "        return rand_start\n",
    "    def mm_normalization(self,X):\n",
    "        \"\"\"max-min normalization\"\"\"\n",
    "        m,n = X.shape\n",
    "        Xnorm = np.zeros_like(X)\n",
    "        for scale in range(n):\n",
    "            Xnorm[:,scale]=(X[:,scale]-np.min(X[:,scale]))/(np.max(X[:,scale])-np.min(X[:,scale]))\n",
    "        return Xnorm\n",
    "    def cluster_denormalization(self,X,cluster_points):\n",
    "        \"\"\"Takes the clusters and denormalizes them for\n",
    "        general use\"\"\"\n",
    "        m,n = X.shape\n",
    "        for scale in range(n):\n",
    "            cluster_points[:,scale] = cluster_points[:,scale]*(np.max(X[:,scale])-np.min(X[:,scale]))+np.min(X[:,scale])\n",
    "        return cluster_points\n",
    "    def fit(self,X):\n",
    "        \"\"\"fits clusters to data\"\"\"\n",
    "        self.X = X.copy()\n",
    "        m,n = X.shape\n",
    "        if self.normalize == True:\n",
    "            norm_X = self.mm_normalization(X)\n",
    "        else:\n",
    "            norm_X =  X.copy()\n",
    "        cluster_points = self.initial_point(norm_X)\n",
    "        difference = float('inf')\n",
    "        while difference > self.accuracy:\n",
    "            k_parent = self.closest_point(norm_X,cluster_points)\n",
    "            previous_cluster = cluster_points.copy()\n",
    "            cluster_points = self.update_cluster(cluster_points,norm_X,k_parent)\n",
    "            difference = np.sum(np.abs(cluster_points-previous_cluster))/np.sum(previous_cluster)\n",
    "        if self.normalize == True:\n",
    "            self.normalized_cluster_points = cluster_points.copy()\n",
    "            cluster_points = self.cluster_denormalization(self.X,cluster_points)\n",
    "        self.cluster_points = cluster_points\n",
    "        print('Model fitted')\n",
    "    def cluster_ctr(self):\n",
    "        \"\"\"returns central cluster points\"\"\"\n",
    "        return self.cluster_points\n",
    "    def closest_point(self,X,cluster_point):\n",
    "        \"\"\"Identifies closest point\"\"\"\n",
    "        m,n=X.shape\n",
    "        first_run = True\n",
    "        for k in range(self.K):\n",
    "            comparison_arr = np.sqrt(np.sum((X-cluster_point[k,:])**2,axis=1)).reshape(m,1)\n",
    "            if first_run == True:\n",
    "                distance_arr = comparison_arr\n",
    "                first_run = False\n",
    "            else:\n",
    "                distance_arr = np.concatenate((distance_arr,comparison_arr),axis=1)\n",
    "        return np.argmin(distance_arr,axis=1)\n",
    "    def update_cluster(self,cluster_points,X,k_parent):\n",
    "        \"\"\"Updates cluster centre to move them to the mean of\n",
    "        all points allocated to them \"\"\"\n",
    "        for k in range(self.K):\n",
    "            cluster_points[k,:]=np.mean(X[k_parent==k],axis=0)\n",
    "        return cluster_points\n",
    "    def predict(self,data):\n",
    "        \"\"\"Predicts based on cluster centre points\"\"\"\n",
    "        if self.normalize == True:\n",
    "            data = self.mm_normalization(data)\n",
    "            clust = self.normalized_cluster_points\n",
    "        elif self.normalize == False:\n",
    "            clust = self.cluster_points\n",
    "        return self.closest_point(data,clust)"
   ]
  },
  {
   "cell_type": "markdown",
   "metadata": {},
   "source": [
    "# 3. Testing\n",
    "- Fitting model\n",
    "- Reporting clustering\n",
    "- producing new test data\n",
    "- using prediction to display predicted result"
   ]
  },
  {
   "cell_type": "code",
   "execution_count": 73,
   "metadata": {
    "collapsed": false
   },
   "outputs": [
    {
     "name": "stdout",
     "output_type": "stream",
     "text": [
      "Model fitted\n"
     ]
    },
    {
     "data": {
      "text/plain": [
       "array([[ 0.5       ,  8.56666667],\n",
       "       [ 2.5       , 17.96666667]])"
      ]
     },
     "execution_count": 73,
     "metadata": {},
     "output_type": "execute_result"
    }
   ],
   "source": [
    "# Create the model and fit it\n",
    "t=KMeans(K=2)\n",
    "t.fit(X)\n",
    "t.cluster_ctr()"
   ]
  },
  {
   "cell_type": "code",
   "execution_count": 74,
   "metadata": {
    "collapsed": true
   },
   "outputs": [],
   "source": [
    "# Creation of test data\n",
    "xt1 = np.linspace(0,1,num=30)\n",
    "xt2 = np.linspace(2,3,num=30)\n",
    "yt1 = np.random.randint(1,15,30)\n",
    "yt2 = np.random.randint(10,25,30)\n",
    "Xt = np.concatenate((xt1,xt2),axis=0)\n",
    "Yt = np.concatenate((yt1,yt2),axis=0)\n",
    "Xt=Xt.reshape(len(Xt),1)\n",
    "Yt=Yt.reshape(len(Yt),1)\n",
    "Xt=np.concatenate((Xt,Yt),axis=1)"
   ]
  },
  {
   "cell_type": "code",
   "execution_count": 75,
   "metadata": {
    "collapsed": false
   },
   "outputs": [],
   "source": [
    "# prediction\n",
    "selec=t.predict(Xt)"
   ]
  },
  {
   "cell_type": "code",
   "execution_count": 76,
   "metadata": {
    "collapsed": false
   },
   "outputs": [
    {
     "data": {
      "image/png": "[encoded data removed]",
      "text/plain": [
       "<matplotlib.figure.Figure at 0x2f05e3b4898>"
      ]
     },
     "metadata": {},
     "output_type": "display_data"
    }
   ],
   "source": [
    "# graphing prediction results\n",
    "color=['b','r']\n",
    "for col,i in enumerate(np.unique(selec)):\n",
    "    plt.scatter(Xt[selec==i,0],Xt[selec==i,1],c=color[col])\n",
    "plt.show()"
   ]
  },
  {
   "cell_type": "code",
   "execution_count": null,
   "metadata": {
    "collapsed": true
   },
   "outputs": [],
   "source": []
  }
 ],
 "metadata": {
  "kernelspec": {
   "display_name": "Python 3",
   "language": "python",
   "name": "python3"
  },
  "language_info": {
   "codemirror_mode": {
    "name": "ipython",
    "version": 3
   },
   "file_extension": ".py",
   "mimetype": "text/x-python",
   "name": "python",
   "nbconvert_exporter": "python",
   "pygments_lexer": "ipython3",
   "version": "3.5.2"
  }
 },
 "nbformat": 4,
 "nbformat_minor": 2
}
