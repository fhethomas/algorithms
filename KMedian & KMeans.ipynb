{
 "cells": [
  {
   "cell_type": "code",
   "execution_count": 174,
   "metadata": {},
   "outputs": [],
   "source": [
    "import numpy as np\n",
    "import matplotlib.pyplot as plt\n",
    "import warnings\n",
    "warnings.filterwarnings('ignore')"
   ]
  },
  {
   "cell_type": "markdown",
   "metadata": {},
   "source": [
    "## Example data"
   ]
  },
  {
   "cell_type": "code",
   "execution_count": 182,
   "metadata": {},
   "outputs": [
    {
     "data": {
      "image/png": "[encoded data removed]",
      "text/plain": [
       "<Figure size 432x288 with 1 Axes>"
      ]
     },
     "metadata": {
      "needs_background": "light"
     },
     "output_type": "display_data"
    }
   ],
   "source": [
    "a = np.random.randint(1,20,(100,2))\n",
    "b = np.random.randint(40,60,(100,2))  \n",
    "c = np.random.randint(80,100,(100,2))  \n",
    "r_arr=np.concatenate((a,b,c))\n",
    "plt.scatter(r_arr[:,0],r_arr[:,1])\n",
    "plt.show()"
   ]
  },
  {
   "cell_type": "markdown",
   "metadata": {},
   "source": [
    "## Quick implementation"
   ]
  },
  {
   "cell_type": "code",
   "execution_count": 179,
   "metadata": {},
   "outputs": [],
   "source": [
    "def k_means(arr,clusters=2,growth_limit=1,iteration_limit=500):\n",
    "    \"\"\"\n",
    "    arr - the array to create clusters for, numpy arr\n",
    "    clusters - number of clusters, int, optional\n",
    "    growth_limit - a percentage score for the accuracy of the algorithm, float, optional\n",
    "    iteration_limit - a limit for the maximum amount of iterations that should be attempted, int, optional\"\"\"\n",
    "    iteration=0\n",
    "    # create random centroids\n",
    "    arr_shape = list(arr.shape)\n",
    "    cluster_group = np.zeros((arr_shape[0]))\n",
    "    cluster_shape = arr_shape.copy()\n",
    "    cluster_shape[0]=clusters\n",
    "    cluster_shape = tuple(cluster_shape)\n",
    "    print(cluster_shape)\n",
    "    cluster_chg_arr = np.zeros((clusters))\n",
    "    arr_max = int(np.max(arr))\n",
    "    arr_min = int(np.min(arr))\n",
    "    # if the max is 1 then ensure the max and min aren't the same\n",
    "    if arr_max==arr_min:\n",
    "        arr_min = 0\n",
    "    centroid_arr = np.random.randint(arr_min,arr_max,cluster_shape)\n",
    "    #print(cluster_group)\n",
    "    growth = 100\n",
    "    # while growth is less than growth_limit - loop\n",
    "    while growth>growth_limit:\n",
    "        iteration+=1\n",
    "        if iteration>iteration_limit:\n",
    "            print(\"Algorithm break\")\n",
    "            print(centroid_arr)\n",
    "            break\n",
    "        # assign all points to the closest centroid\n",
    "        item_int = 0\n",
    "        for x in arr:\n",
    "            centroid_distance=list(np.sum(np.absolute(centroid_arr-x),axis=1))\n",
    "            cluster_group[item_int]=int(centroid_distance.index(np.min(centroid_distance)))\n",
    "            item_int+=1\n",
    "        # change centroid to be the average of all the points assigned to it\n",
    "        old_centroid = centroid_distance=list(np.sum(np.absolute(centroid_arr-x),axis=1))centroid_arr.copy()\n",
    "        for x in range(0,clusters):\n",
    "            mean_arr = np.mean(arr[cluster_group==x],axis=0)\n",
    "            centroid_arr[x]=mean_arr.copy()\n",
    "        # calculate the amount centroids have changed\n",
    "        centroid_chg=np.sum((centroid_arr-old_centroid)**2,axis=1)**0.5\n",
    "        if np.sum(centroid_chg)==0:\n",
    "            print(\"Centroids not changing\")\n",
    "            break\n",
    "        growth = np.absolute(100*((np.sum(centroid_chg)-np.sum(cluster_chg_arr))/np.sum(cluster_chg_arr)))\n",
    "        if np.isnan(growth):\n",
    "            #print(\"Is NAN\")\n",
    "            growth=100\n",
    "        #rint(growth)\n",
    "        cluster_chg_arr=centroid_chg\n",
    "    print(\"Algorithm finished. Centroids returned:\")\n",
    "    print(centroid_arr)\n",
    "    return centroid_arr"
   ]
  },
  {
   "cell_type": "code",
   "execution_count": 180,
   "metadata": {
    "scrolled": false
   },
   "outputs": [
    {
     "name": "stdout",
     "output_type": "stream",
     "text": [
      "(3, 2)\n",
      "Centroids not changing\n",
      "Algorithm finished. Centroids returned:\n",
      "[[89 89]\n",
      " [49 49]\n",
      " [10 10]]\n"
     ]
    }
   ],
   "source": [
    "centroid_arr=k_means(r_arr,clusters=3,growth_limit=1)"
   ]
  },
  {
   "cell_type": "markdown",
   "metadata": {},
   "source": [
    "## Plot of centre points"
   ]
  },
  {
   "cell_type": "code",
   "execution_count": 181,
   "metadata": {},
   "outputs": [
    {
     "data": {
      "text/plain": [
       "<matplotlib.collections.PathCollection at 0x1f7e1314460>"
      ]
     },
     "execution_count": 181,
     "metadata": {},
     "output_type": "execute_result"
    },
    {
     "data": {
      "image/png": "[encoded data removed]",
      "text/plain": [
       "<Figure size 432x288 with 1 Axes>"
      ]
     },
     "metadata": {
      "needs_background": "light"
     },
     "output_type": "display_data"
    }
   ],
   "source": [
    "plt.scatter(r_arr[:,0],r_arr[:,1])\n",
    "plt.scatter(centroid_arr[:,0],centroid_arr[:,1])\n",
    "plt.show()"
   ]
  },
  {
   "cell_type": "code",
   "execution_count": 184,
   "metadata": {},
   "outputs": [],
   "source": [
    "def k_medians(arr,clusters=2,growth_limit=1,iteration_limit=500):\n",
    "    \"\"\"\n",
    "    arr - the array to create clusters for, numpy arr\n",
    "    clusters - number of clusters, int, optional\n",
    "    growth_limit - a percentage score for the accuracy of the algorithm, float, optional\n",
    "    iteration_limit - a limit for the maximum amount of iterations that should be attempted, int, optional\"\"\"\n",
    "    iteration=0\n",
    "    # create random centroids\n",
    "    arr_shape = list(arr.shape)\n",
    "    cluster_group = np.zeros((arr_shape[0]))\n",
    "    cluster_shape = arr_shape.copy()\n",
    "    cluster_shape[0]=clusters\n",
    "    cluster_shape = tuple(cluster_shape)\n",
    "    print(cluster_shape)\n",
    "    cluster_chg_arr = np.zeros((clusters))\n",
    "    arr_max = int(np.max(arr))\n",
    "    arr_min = int(np.min(arr))\n",
    "    # if the max is 1 then ensure the max and min aren't the same\n",
    "    if arr_max==arr_min:\n",
    "        arr_min = 0\n",
    "    centroid_arr = np.random.randint(arr_min,arr_max,cluster_shape)\n",
    "    #print(cluster_group)\n",
    "    growth = 100\n",
    "    # while growth is less than growth_limit - loop\n",
    "    while growth>growth_limit:\n",
    "        iteration+=1\n",
    "        if iteration>iteration_limit:\n",
    "            print(\"Algorithm break\")\n",
    "            print(centroid_arr)\n",
    "            break\n",
    "        # assign all points to the closest centroid\n",
    "        item_int = 0\n",
    "        for x in arr:\n",
    "            centroid_distance=list(np.sum((centroid_arr-x)**2,axis=1)**0.5)\n",
    "            cluster_group[item_int]=int(centroid_distance.index(np.min(centroid_distance)))\n",
    "            item_int+=1\n",
    "        # change centroid to be the average of all the points assigned to it\n",
    "        old_centroid = centroid_arr.copy()\n",
    "        for x in range(0,clusters):\n",
    "            mean_arr = np.median(arr[cluster_group==x],axis=0)\n",
    "            centroid_arr[x]=mean_arr.copy()\n",
    "        # calculate the amount centroids have changed\n",
    "        centroid_chg=np.sum((centroid_arr-old_centroid)**2,axis=1)**0.5\n",
    "        if np.sum(centroid_chg)==0:\n",
    "            print(\"Centroids not changing\")\n",
    "            break\n",
    "        growth = np.absolute(100*((np.sum(centroid_chg)-np.sum(cluster_chg_arr))/np.sum(cluster_chg_arr)))\n",
    "        if np.isnan(growth):\n",
    "            #print(\"Is NAN\")\n",
    "            growth=100\n",
    "        #rint(growth)\n",
    "        cluster_chg_arr=centroid_chg\n",
    "    print(\"Algorithm finished. Centroids returned:\")\n",
    "    print(centroid_arr)\n",
    "    return centroid_arr"
   ]
  },
  {
   "cell_type": "markdown",
   "metadata": {},
   "source": [
    "## K-Median Plot"
   ]
  },
  {
   "cell_type": "code",
   "execution_count": 185,
   "metadata": {},
   "outputs": [
    {
     "name": "stdout",
     "output_type": "stream",
     "text": [
      "(3, 2)\n",
      "Centroids not changing\n",
      "Algorithm finished. Centroids returned:\n",
      "[[49 48]\n",
      " [88 88]\n",
      " [ 9 11]]\n"
     ]
    },
    {
     "data": {
      "image/png": "[encoded data removed]",
      "text/plain": [
       "<Figure size 432x288 with 1 Axes>"
      ]
     },
     "metadata": {
      "needs_background": "light"
     },
     "output_type": "display_data"
    }
   ],
   "source": [
    "centroid_arr=k_medians(r_arr,clusters=3,growth_limit=1)\n",
    "plt.scatter(r_arr[:,0],r_arr[:,1])\n",
    "plt.scatter(centroid_arr[:,0],centroid_arr[:,1])\n",
    "plt.show()"
   ]
  },
  {
   "cell_type": "code",
   "execution_count": null,
   "metadata": {},
   "outputs": [],
   "source": []
  }
 ],
 "metadata": {
  "kernelspec": {
   "display_name": "Python 3 (ipykernel)",
   "language": "python",
   "name": "python3"
  },
  "language_info": {
   "codemirror_mode": {
    "name": "ipython",
    "version": 3
   },
   "file_extension": ".py",
   "mimetype": "text/x-python",
   "name": "python",
   "nbconvert_exporter": "python",
   "pygments_lexer": "ipython3",
   "version": "3.9.12"
  }
 },
 "nbformat": 4,
 "nbformat_minor": 4
}
