{
 "cells": [
  {
   "cell_type": "markdown",
   "metadata": {},
   "source": [
    "# 0-1 Knapsack problem"
   ]
  },
  {
   "cell_type": "code",
   "execution_count": 184,
   "metadata": {
    "collapsed": true
   },
   "outputs": [],
   "source": [
    "# dynamic programming solution\n",
    "import numpy as np\n",
    "import pandas as pd\n",
    "# sack has item, weight, value\n",
    "items = [['table',4,3],['chair',2,2],['couch',5,8],['lamp',1,3],['mirror',3,2]]\n",
    "knapsack_size=8\n"
   ]
  },
  {
   "cell_type": "code",
   "execution_count": 199,
   "metadata": {
    "collapsed": false
   },
   "outputs": [],
   "source": [
    "def namer(item,sub):\n",
    "    return str(item)+'_'+str(sub)\n",
    "def knapsack(items,knapsack_size):\n",
    "    \"\"\"\n",
    "    Parameters\n",
    "    ------------\n",
    "    items : list\n",
    "        items = [['item0',weight_int0,value_int0],\n",
    "                 ['item1',weight_int1,value_int1]]\n",
    "    knapsack_size : integer\n",
    "        knapsack size as an integer\n",
    "    Returns\n",
    "    ------------\n",
    "    items : list of strings\n",
    "        The list of items for knapsack size\n",
    "    value: integer\n",
    "        The value of items output\n",
    "    \"\"\"\n",
    "    columns=['item','weight','value']\n",
    "    df=pd.DataFrame(items,columns=columns)\n",
    "    df=df.sort_values(by='weight')\n",
    "    sub_sack_values=np.zeros((len(df['weight']),knapsack_size+1))\n",
    "    # keys will be in the format item_sacksize\n",
    "    item_dictionary ={}\n",
    "    sub_sack=np.arange(min(df['weight']),knapsack_size+1)\n",
    "    for item in range(len(df['weight'])):\n",
    "        sub_df=df.iloc[item,:]\n",
    "        item_name = sub_df[0]\n",
    "        weight=sub_df[1]\n",
    "        value=sub_df[2]\n",
    "        for sub in sub_sack:\n",
    "            item_key = namer(item,sub)\n",
    "            # max of previous max\n",
    "            m_val = sub_sack_values[item-1,sub]\n",
    "            if namer(item-1,sub) in item_dictionary.keys():\n",
    "                m_item  = item_dictionary[namer(item-1,sub)]\n",
    "            else:\n",
    "                m_item = []\n",
    "            # and value of current item + value of remaining space\n",
    "            remaining_space = sub-weight\n",
    "            if remaining_space>0 and item>0:\n",
    "                remaining_value = sub_sack_values[item-1,sub-weight]\n",
    "                remaining_item = item_dictionary[namer(item-1,sub-weight)] +[item_name]\n",
    "            else:\n",
    "                remaining_value=0\n",
    "                remaining_item = [item_name]\n",
    "            current_remaining_value = value + remaining_value\n",
    "            # which is bigger?\n",
    "            if m_val > current_remaining_value:\n",
    "                sub_sack_values[item,sub]=m_val\n",
    "                item_dictionary[item_key]=m_item\n",
    "            else:\n",
    "                sub_sack_values[item,sub]=current_remaining_value\n",
    "                item_dictionary[item_key]=remaining_item\n",
    "    items = item_dictionary[namer(len(items)-1,knapsack_size)]\n",
    "    value = sub_sack_values[-1,-1]\n",
    "    return items,value"
   ]
  },
  {
   "cell_type": "code",
   "execution_count": null,
   "metadata": {
    "collapsed": false
   },
   "outputs": [],
   "source": []
  },
  {
   "cell_type": "code",
   "execution_count": 200,
   "metadata": {
    "collapsed": false
   },
   "outputs": [
    {
     "data": {
      "text/plain": [
       "(['lamp', 'chair', 'table', 'couch'], 16.0)"
      ]
     },
     "execution_count": 200,
     "metadata": {},
     "output_type": "execute_result"
    }
   ],
   "source": [
    "knapsack(items,12)"
   ]
  },
  {
   "cell_type": "code",
   "execution_count": null,
   "metadata": {
    "collapsed": true
   },
   "outputs": [],
   "source": []
  }
 ],
 "metadata": {
  "kernelspec": {
   "display_name": "Python 3",
   "language": "python",
   "name": "python3"
  },
  "language_info": {
   "codemirror_mode": {
    "name": "ipython",
    "version": 3
   },
   "file_extension": ".py",
   "mimetype": "text/x-python",
   "name": "python",
   "nbconvert_exporter": "python",
   "pygments_lexer": "ipython3",
   "version": "3.5.2"
  }
 },
 "nbformat": 4,
 "nbformat_minor": 2
}
