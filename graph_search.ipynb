{
 "cells": [
  {
   "cell_type": "raw",
   "metadata": {},
   "source": [
    "        / b ----- d ----- i ----- h\n",
    "       /          |       |       |\n",
    "a----             |       |       |\n",
    "       \\          |       |       |\n",
    "        \\ c ----- e ----- f ----- g\n",
    "                    \\     |\n",
    "                     \\    | \n",
    "                      \\   j"
   ]
  },
  {
   "cell_type": "code",
   "execution_count": 89,
   "metadata": {
    "collapsed": false
   },
   "outputs": [],
   "source": [
    "graph={'a':['b','c'],'b':['a','d'],'c':['a','e'],'d':['b','d','i'],\n",
    "       'e':['c','d','f','j'],'f':['e','g','i','j'],'g':['f','h'],'h':['g','i'],\n",
    "      'i':['d','f','h'],'j':['e','f']}\n",
    "graph_quality={'a':None,'b':None,'c':None,'d':None,'e':None,'f':None,'g':'Mango','h':None,'i':None,'j':None}\n",
    "start = 'a'\n",
    "desired_quality='Mango'"
   ]
  },
  {
   "cell_type": "code",
   "execution_count": 91,
   "metadata": {
    "collapsed": false
   },
   "outputs": [],
   "source": [
    "# we prefer all connections that are closer so fewest steps taken\n",
    "def check_node(node,desired_quality,graph_quality=None):\n",
    "    if graph_quality==None:\n",
    "        return False\n",
    "    return desired_quality == graph_quality[node]"
   ]
  },
  {
   "cell_type": "code",
   "execution_count": null,
   "metadata": {
    "collapsed": true
   },
   "outputs": [],
   "source": []
  },
  {
   "cell_type": "code",
   "execution_count": 93,
   "metadata": {
    "collapsed": false
   },
   "outputs": [],
   "source": [
    "def breadth_first(start,graph,desired_quality,graph_quality=None):\n",
    "    queue=[start]\n",
    "    found_result = False\n",
    "    queue_int=0\n",
    "    parent={start:[[]]}\n",
    "    checked=set()\n",
    "    while found_result==False:\n",
    "        node=queue[queue_int]\n",
    "        if node not in checked:\n",
    "            if check_node(node,desired_quality,graph_quality) or desired_quality==node:\n",
    "                found_result=True\n",
    "                break\n",
    "            else:\n",
    "                queue+=graph[node]\n",
    "                for sub_node in graph[node]:\n",
    "                    if sub_node not in parent.keys():\n",
    "                        parent[sub_node]=[[node]+x for x in parent[node]]\n",
    "                    else:\n",
    "                        parent[sub_node]+=[[node]+x for x in parent[node]]\n",
    "                checked.add(node)\n",
    "                queue_int+=1\n",
    "        else:\n",
    "            queue_int+=1\n",
    "        if len(checked)==len(graph.keys()):\n",
    "            print('No: {0} in graph'.format(desired_quality))\n",
    "            return None\n",
    "    print('{0} found'.format(desired_quality))\n",
    "    node_routes = {len(route): route for route in parent[node]}\n",
    "    shortest_route = node_routes[min(node_routes.keys())][::-1] + [node] \n",
    "    print('shortest route: {0}'.format('-'.join(shortest_route)))\n",
    "    return shortest_route"
   ]
  },
  {
   "cell_type": "code",
   "execution_count": null,
   "metadata": {
    "collapsed": false
   },
   "outputs": [],
   "source": []
  },
  {
   "cell_type": "code",
   "execution_count": 94,
   "metadata": {
    "collapsed": false
   },
   "outputs": [
    {
     "name": "stdout",
     "output_type": "stream",
     "text": [
      "d found\n",
      "shortest route: a-b-d\n"
     ]
    }
   ],
   "source": [
    "parent=breadth_first(start,graph,'d')"
   ]
  },
  {
   "cell_type": "code",
   "execution_count": 75,
   "metadata": {
    "collapsed": false
   },
   "outputs": [
    {
     "data": {
      "text/plain": [
       "[['d', 'b', 'a'],\n",
       " ['d', 'd', 'b', 'a'],\n",
       " ['f', 'e', 'c', 'a'],\n",
       " ['f', 'i', 'd', 'b', 'a'],\n",
       " ['f', 'i', 'd', 'd', 'b', 'a'],\n",
       " ['h', 'i', 'd', 'b', 'a'],\n",
       " ['h', 'i', 'd', 'd', 'b', 'a']]"
      ]
     },
     "execution_count": 75,
     "metadata": {},
     "output_type": "execute_result"
    }
   ],
   "source": []
  },
  {
   "cell_type": "code",
   "execution_count": null,
   "metadata": {
    "collapsed": true
   },
   "outputs": [],
   "source": []
  }
 ],
 "metadata": {
  "kernelspec": {
   "display_name": "Python 3",
   "language": "python",
   "name": "python3"
  },
  "language_info": {
   "codemirror_mode": {
    "name": "ipython",
    "version": 3
   },
   "file_extension": ".py",
   "mimetype": "text/x-python",
   "name": "python",
   "nbconvert_exporter": "python",
   "pygments_lexer": "ipython3",
   "version": "3.5.2"
  }
 },
 "nbformat": 4,
 "nbformat_minor": 2
}
