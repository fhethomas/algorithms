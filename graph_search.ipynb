{
 "cells": [
  {
   "cell_type": "markdown",
   "metadata": {},
   "source": [
    "# Breadth First Search"
   ]
  },
  {
   "cell_type": "raw",
   "metadata": {},
   "source": [
    "\n",
    "\n",
    "        / b ----- d ----- i ----- h\n",
    "       /          |       |       |\n",
    "a----             |       |       |\n",
    "       \\          |       |       |\n",
    "        \\ c ----- e ----- f ----- g\n",
    "                    \\     |\n",
    "                     \\    | \n",
    "                      \\   j"
   ]
  },
  {
   "cell_type": "code",
   "execution_count": 2,
   "metadata": {
    "collapsed": false
   },
   "outputs": [],
   "source": [
    "graph={'a':['b','c'],'b':['a','d'],'c':['a','e'],'d':['b','d','i'],\n",
    "       'e':['c','d','f','j'],'f':['e','g','i','j'],'g':['f','h'],'h':['g','i'],\n",
    "      'i':['d','f','h'],'j':['e','f']}\n",
    "graph_quality={'a':None,'b':None,'c':None,'d':None,'e':None,'f':None,'g':'Mango','h':None,'i':None,'j':None}\n",
    "start = 'a'\n",
    "desired_quality='Mango'"
   ]
  },
  {
   "cell_type": "code",
   "execution_count": 3,
   "metadata": {
    "collapsed": false
   },
   "outputs": [],
   "source": [
    "# we prefer all connections that are closer so fewest steps taken\n",
    "def check_node(node,desired_quality,graph_quality=None):\n",
    "    if graph_quality==None:\n",
    "        return False\n",
    "    return desired_quality == graph_quality[node]"
   ]
  },
  {
   "cell_type": "code",
   "execution_count": null,
   "metadata": {
    "collapsed": true
   },
   "outputs": [],
   "source": []
  },
  {
   "cell_type": "code",
   "execution_count": 4,
   "metadata": {
    "collapsed": false
   },
   "outputs": [],
   "source": [
    "def breadth_first(start,graph,desired_quality,graph_quality=None):\n",
    "    queue=[start]\n",
    "    found_result = False\n",
    "    queue_int=0\n",
    "    parent={start:[[]]}\n",
    "    checked=set()\n",
    "    while found_result==False:\n",
    "        node=queue[queue_int]\n",
    "        if node not in checked:\n",
    "            if check_node(node,desired_quality,graph_quality) or desired_quality==node:\n",
    "                found_result=True\n",
    "                break\n",
    "            else:\n",
    "                queue+=graph[node]\n",
    "                for sub_node in graph[node]:\n",
    "                    if sub_node not in parent.keys():\n",
    "                        parent[sub_node]=[[node]+x for x in parent[node]]\n",
    "                    else:\n",
    "                        parent[sub_node]+=[[node]+x for x in parent[node]]\n",
    "                checked.add(node)\n",
    "                queue_int+=1\n",
    "        else:\n",
    "            queue_int+=1\n",
    "        if len(checked)==len(graph.keys()):\n",
    "            print('No: {0} in graph'.format(desired_quality))\n",
    "            return None\n",
    "    print('{0} found'.format(desired_quality))\n",
    "    node_routes = {len(route): route for route in parent[node]}\n",
    "    shortest_route = node_routes[min(node_routes.keys())][::-1] + [node] \n",
    "    print('shortest route: {0}'.format('-'.join(shortest_route)))\n",
    "    return shortest_route"
   ]
  },
  {
   "cell_type": "code",
   "execution_count": 6,
   "metadata": {
    "collapsed": false
   },
   "outputs": [
    {
     "name": "stdout",
     "output_type": "stream",
     "text": [
      "d found\n",
      "shortest route: a-b-d\n"
     ]
    }
   ],
   "source": [
    "parent=breadth_first(start,graph,'d')"
   ]
  },
  {
   "cell_type": "markdown",
   "metadata": {
    "collapsed": false
   },
   "source": [
    "# Dijkstra"
   ]
  },
  {
   "cell_type": "code",
   "execution_count": 27,
   "metadata": {
    "collapsed": true
   },
   "outputs": [],
   "source": [
    "def lowest_cost(costs,processed):\n",
    "    lowest=float(\"inf\")\n",
    "    current_node = None\n",
    "    for node in costs.keys():\n",
    "        cost=costs[node]\n",
    "        if cost < lowest and node not in processed:\n",
    "            current_node = node\n",
    "            lowest = cost\n",
    "    return current_node"
   ]
  },
  {
   "cell_type": "code",
   "execution_count": 28,
   "metadata": {
    "collapsed": false
   },
   "outputs": [
    {
     "data": {
      "text/plain": [
       "'b'"
      ]
     },
     "execution_count": 28,
     "metadata": {},
     "output_type": "execute_result"
    }
   ],
   "source": [
    "lowest_cost({'b':2,'c':3,'d':5,'e':7,'a':8},[])"
   ]
  },
  {
   "cell_type": "code",
   "execution_count": 33,
   "metadata": {
    "collapsed": true
   },
   "outputs": [],
   "source": [
    "def dijkstra(start,end,graph):\n",
    "    \"\"\"Implementation of dijkstra algorithm\n",
    "    Parameters\n",
    "    -----------\n",
    "    start : string\n",
    "        start point for the graph\n",
    "    end : string\n",
    "        end point for the graph\n",
    "    graph : dictionary\n",
    "        Dictionary should contain the \n",
    "        graph, with each dictonary element \n",
    "        containing the weighted elements\n",
    "        example:\n",
    "        {'a':{'b':2,'c':3},'b':{'a':2,'d':4},'c':{'a':3,'d':3},'d':{'b':4,'c':3}}\n",
    "    Returns\n",
    "    ----------\n",
    "    cost : int/float\n",
    "        cost of getting to end node\n",
    "    route : list of strings\n",
    "        the nodes to get to end node\n",
    "    \"\"\"\n",
    "    # establish initial parents/costs\n",
    "    parents={x:start for x in graph[start].keys()}\n",
    "    costs=graph[start]\n",
    "    processed=[]\n",
    "    # establish cost of all nodes as infinite to start\n",
    "    for node in graph.keys():\n",
    "        if node not in costs.keys():\n",
    "            costs[node]=float('inf')\n",
    "    current_node=lowest_cost(costs, processed)\n",
    "    # Main controlflow loop\n",
    "    while current_node is not None:\n",
    "        cost=costs[current_node]\n",
    "        neighbours=graph[current_node]\n",
    "        # loop through each node's neighbours\n",
    "        for n in neighbours.keys():\n",
    "            new_cost=cost+neighbours[n]\n",
    "            if new_cost < costs[n]:\n",
    "                costs[n]=new_cost\n",
    "                parents[n]=current_node\n",
    "        # add current node to processed, so not re-run\n",
    "        processed.append(current_node)\n",
    "        current_node=lowest_cost(costs,processed)\n",
    "    # Calculate the route that got from start to end\n",
    "    last=end\n",
    "    route=[end]\n",
    "    while last!=start:\n",
    "        last=parents[last]\n",
    "        route+=[last]\n",
    "    # reverse the route so goes from start - end\n",
    "    route=route[::-1]\n",
    "    print('Cost to get from {0} to {1} is: {2}.'.format(start,end,costs[end]))\n",
    "    print('Nodes to result: {0}'.format(route))\n",
    "    return costs[end], route"
   ]
  },
  {
   "cell_type": "code",
   "execution_count": 34,
   "metadata": {
    "collapsed": false
   },
   "outputs": [
    {
     "name": "stdout",
     "output_type": "stream",
     "text": [
      "Cost to get from a to d is: 6.\n",
      "Nodes to result: ['a', 'b', 'd']\n"
     ]
    },
    {
     "data": {
      "text/plain": [
       "(6, ['a', 'b', 'd'])"
      ]
     },
     "execution_count": 34,
     "metadata": {},
     "output_type": "execute_result"
    }
   ],
   "source": [
    "dijkstra('a','d',{'a':{'b':2,'c':3},'b':{'a':2,'d':4},'c':{'a':3,'d':3},'d':{'b':4,'c':3}})"
   ]
  },
  {
   "cell_type": "code",
   "execution_count": null,
   "metadata": {
    "collapsed": true
   },
   "outputs": [],
   "source": []
  }
 ],
 "metadata": {
  "kernelspec": {
   "display_name": "Python 3",
   "language": "python",
   "name": "python3"
  },
  "language_info": {
   "codemirror_mode": {
    "name": "ipython",
    "version": 3
   },
   "file_extension": ".py",
   "mimetype": "text/x-python",
   "name": "python",
   "nbconvert_exporter": "python",
   "pygments_lexer": "ipython3",
   "version": "3.5.2"
  }
 },
 "nbformat": 4,
 "nbformat_minor": 2
}
