{
 "cells": [
  {
   "cell_type": "markdown",
   "metadata": {},
   "source": [
    "# K Nearest Neighbors\n",
    "Implementing the algorithm to train based on a set of data and return the prediction based on the 'k' nearest items "
   ]
  },
  {
   "cell_type": "markdown",
   "metadata": {},
   "source": [
    "# Imports"
   ]
  },
  {
   "cell_type": "code",
   "execution_count": 59,
   "metadata": {
    "collapsed": false
   },
   "outputs": [],
   "source": [
    "import numpy as np\n",
    "from collections import Counter"
   ]
  },
  {
   "cell_type": "markdown",
   "metadata": {},
   "source": [
    "# Test data\n",
    "We're going to create some test data. Let's say we've got cats, dogs and dinosaurs with 3 measures - ear length, tail length, leg length.\n",
    "\n",
    "0 - cat, 1 - dog, 2 - dinosaur"
   ]
  },
  {
   "cell_type": "code",
   "execution_count": 68,
   "metadata": {
    "collapsed": false
   },
   "outputs": [],
   "source": [
    "dic={0:'cat',1:'dog',2:'dinosaur'}\n",
    "X=np.random.rand(30,3)\n",
    "X[:10,0]+=0.2\n",
    "X[10:20,0]+=0.5\n",
    "X[:10,1]+=2\n",
    "X[10:20,1]+=6\n",
    "X[:10,2]+=4\n",
    "X[10:20,2]+=6\n",
    "X[20:,:]+=10\n",
    "m,n=X.shape\n",
    "y=np.zeros((m,1))\n",
    "y[:10]=0\n",
    "y[10:20]=1\n",
    "y[20:]=2"
   ]
  },
  {
   "cell_type": "code",
   "execution_count": 63,
   "metadata": {
    "collapsed": false
   },
   "outputs": [],
   "source": [
    "# set k\n",
    "k=7"
   ]
  },
  {
   "cell_type": "code",
   "execution_count": 70,
   "metadata": {
    "collapsed": true
   },
   "outputs": [],
   "source": [
    "# our example case\n",
    "example=np.array([[8,5.5,6]])"
   ]
  },
  {
   "cell_type": "code",
   "execution_count": 71,
   "metadata": {
    "collapsed": false
   },
   "outputs": [],
   "source": [
    "# Find distance for each case from the example\n",
    "X_y_distance=(np.sum((X-example)**2,1).reshape(m,1))**0.5\n",
    "# Add the categorical data to the array\n",
    "X_y_distance=np.concatenate((X_y_distance,y),axis=1)\n",
    "# Sort the data by the closest to further matches\n",
    "X_y_distance=X_y_distance[X_y_distance[:,0].argsort()]"
   ]
  },
  {
   "cell_type": "code",
   "execution_count": 73,
   "metadata": {
    "collapsed": true
   },
   "outputs": [],
   "source": [
    "# Create a Counter for all items to k\n",
    "cnt=Counter(X_y_distance[:k,1])"
   ]
  },
  {
   "cell_type": "code",
   "execution_count": 75,
   "metadata": {
    "collapsed": false
   },
   "outputs": [
    {
     "name": "stdout",
     "output_type": "stream",
     "text": [
      "dinosaur\n",
      "Counter({2.0: 4, 1.0: 3})\n"
     ]
    }
   ],
   "source": [
    "# print the item that has the max value\n",
    "for item in cnt.keys():\n",
    "    if cnt[item]==max(cnt.values()):\n",
    "        print(dic[item])\n",
    "print(cnt)"
   ]
  },
  {
   "cell_type": "markdown",
   "metadata": {},
   "source": [
    "# KNN as class"
   ]
  },
  {
   "cell_type": "code",
   "execution_count": 79,
   "metadata": {
    "collapsed": true
   },
   "outputs": [],
   "source": [
    "class KNN:\n",
    "    \"\"\"K Nearest Neighbors algorithm\n",
    "    Parameters\n",
    "    ------------\n",
    "    X : numpy array\n",
    "        Array should hold all relevant criteria.\n",
    "        Data should be organized by case x feature\n",
    "    y : numpy array\n",
    "        Can be a flat array or with dimensions case x 1.\n",
    "        Can hold categorical data as strings or integers:\n",
    "         np.array(['a','b','a','c']) or np.array([0,1,0,2])\n",
    "    Available methods\n",
    "    -------------\n",
    "    predict : function\n",
    "        Used for the prediction of nearest neighbor\"\"\"\n",
    "    def __init__(self,X,y):\n",
    "        self.y_dic={}\n",
    "        self.X=X\n",
    "        self.m,self.n=X.shape\n",
    "        self.y=self.categorize(y.reshape(self.m,1))\n",
    "    def categorize(self,y):\n",
    "        m,n=y.shape\n",
    "        new_y=np.zeros((m,1))\n",
    "        unique_y = np.unique(y)\n",
    "        for i, item in enumerate(unique_y):\n",
    "            self.y_dic[i]=item\n",
    "            new_y[y==item]=i\n",
    "        return new_y\n",
    "    def predict(self,case,k):\n",
    "        \"\"\"Prediction method\n",
    "        Parameters\n",
    "        ------------\n",
    "        case : numpy array\n",
    "            An array of features\n",
    "        k    : integer\n",
    "            The number of nearest neighbors\n",
    "            that should be compared.\n",
    "            For best results use odd numbers\n",
    "        Returns\n",
    "        ------------\n",
    "        return_item : string/int\n",
    "            Returns case classified based\n",
    "            on K neighbors\"\"\"\n",
    "        return_item=[]\n",
    "        X_y_distance=(np.sum((self.X-case)**2,1).reshape(self.m,1))**0.5\n",
    "        X_y_distance=np.concatenate((X_y_distance,self.y),axis=1)\n",
    "        X_y_distance=X_y_distance[X_y_distance[:,0].argsort()]\n",
    "        cnt=Counter(X_y_distance[:k,1])\n",
    "        for item in cnt.keys():\n",
    "            if cnt[item]==max(cnt.values()):\n",
    "                #print(self.y_dic[item])\n",
    "                return_item.append(self.y_dic[item])\n",
    "        if len(return_item)>1:\n",
    "            print('More than one item returned. Please set k to odd')\n",
    "        else:\n",
    "            return_item=return_item[0]\n",
    "        print('Nearest item: {0}'.format(return_item))\n",
    "        return return_item"
   ]
  },
  {
   "cell_type": "markdown",
   "metadata": {},
   "source": [
    "# Testing"
   ]
  },
  {
   "cell_type": "code",
   "execution_count": 80,
   "metadata": {
    "collapsed": false
   },
   "outputs": [],
   "source": [
    "a=KNN(X,y)"
   ]
  },
  {
   "cell_type": "code",
   "execution_count": 82,
   "metadata": {
    "collapsed": false
   },
   "outputs": [
    {
     "name": "stdout",
     "output_type": "stream",
     "text": [
      "Nearest item: 2.0\n"
     ]
    },
    {
     "data": {
      "text/plain": [
       "2.0"
      ]
     },
     "execution_count": 82,
     "metadata": {},
     "output_type": "execute_result"
    }
   ],
   "source": [
    "a.predict(example,7)"
   ]
  },
  {
   "cell_type": "code",
   "execution_count": null,
   "metadata": {
    "collapsed": true
   },
   "outputs": [],
   "source": []
  }
 ],
 "metadata": {
  "kernelspec": {
   "display_name": "Python 3",
   "language": "python",
   "name": "python3"
  },
  "language_info": {
   "codemirror_mode": {
    "name": "ipython",
    "version": 3
   },
   "file_extension": ".py",
   "mimetype": "text/x-python",
   "name": "python",
   "nbconvert_exporter": "python",
   "pygments_lexer": "ipython3",
   "version": "3.5.2"
  }
 },
 "nbformat": 4,
 "nbformat_minor": 2
}
